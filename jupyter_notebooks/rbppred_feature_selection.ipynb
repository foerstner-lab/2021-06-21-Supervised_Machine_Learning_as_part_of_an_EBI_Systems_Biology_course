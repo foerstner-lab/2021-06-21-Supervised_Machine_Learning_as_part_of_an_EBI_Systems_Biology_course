{
 "cells": [
  {
   "cell_type": "code",
   "execution_count": 1,
   "metadata": {},
   "outputs": [],
   "source": [
    "import numpy as np\n",
    "import pandas as pd\n",
    "import requests, os\n",
    "from sklearn.preprocessing import StandardScaler\n",
    "from sklearn.model_selection import train_test_split\n",
    "from sklearn.dummy import DummyClassifier\n",
    "from sklearn.ensemble import ExtraTreesClassifier\n",
    "from Bio import SeqIO\n",
    "\n",
    "\n",
    "# classifiers\n",
    "from sklearn.neural_network import MLPClassifier\n",
    "from sklearn.neighbors import KNeighborsClassifier\n",
    "from sklearn.svm import SVC\n",
    "from sklearn.gaussian_process import GaussianProcessClassifier\n",
    "from sklearn.gaussian_process.kernels import RBF\n",
    "from sklearn.tree import DecisionTreeClassifier\n",
    "from sklearn.ensemble import RandomForestClassifier, AdaBoostClassifier\n",
    "from sklearn.naive_bayes import GaussianNB\n",
    "from sklearn.discriminant_analysis import QuadraticDiscriminantAnalysis\n",
    "\n",
    "# evaluation\n",
    "from sklearn.metrics import classification_report, confusion_matrix, accuracy_score\n"
   ]
  },
  {
   "cell_type": "code",
   "execution_count": null,
   "metadata": {},
   "outputs": [],
   "source": [
    "Futher reading:\n",
    "    paper : \n",
    "        https://academic.oup.com/bioinformatics/article/33/6/854/2557689\n",
    "    CTD :\n",
    "        https://www.jstor.org/stable/2368330?seq=1#metadata_info_tab_contents"
   ]
  },
  {
   "cell_type": "code",
   "execution_count": 2,
   "metadata": {},
   "outputs": [],
   "source": [
    "# Dowload datatsets\n",
    "\n",
    "# RBP sequences\n",
    "\n",
    "data_directory = \"rbp_prediction\"\n",
    "#os.mkdir(data_directory)\n",
    "out_file_rbp = os.path.join(data_directory, \"rbp_sequences.faa\")\n",
    "url = 'http://rnabinding.com/RBP2780'\n",
    "#request = requests.get(url)\n",
    "#with open(out_file_rbp, 'wb') as sequence_file:\n",
    "#    sequence_file.write(request.content)\n",
    "\n",
    "\n",
    "\n",
    "# Non RBP sequences\n",
    "\n",
    "out_file_non_rbp = os.path.join(data_directory, \"non_rbp_sequences.faa\")\n",
    "url = 'http://rnabinding.com/non-RBP7093'\n",
    "#request = requests.get(url)\n",
    "#with open(out_file_non_rbp, 'wb') as non_rbp_sequence_file:\n",
    "#    non_rbp_sequence_file.write(request.content)\n",
    "\n",
    "\n"
   ]
  },
  {
   "cell_type": "code",
   "execution_count": 3,
   "metadata": {},
   "outputs": [],
   "source": [
    "# Feature encoding\n",
    "\n",
    "''' Use Global amino acid descriptors'''\n",
    "\n",
    "from PyBioMed.PyProtein import CTD\n",
    "\n",
    "# RBP\n",
    "ctd_all = []\n",
    "\n",
    "for record in SeqIO.parse(out_file_rbp, \"fasta\"):\n",
    "    ctd_dict = CTD.CalculateCTD(str(record.seq))\n",
    "    ctd_list = list(ctd_dict.values())\n",
    "    ctd_all.append(ctd_list)\n",
    "    \n",
    "headers = list(ctd_dict.keys())\n",
    "    \n",
    "rbp_df = pd.DataFrame(ctd_all, columns=headers)\n",
    "rbp_df[\"target\"] = 1\n",
    "\n",
    "\n",
    "# NON RBP\n",
    "\n",
    "ctd_all = []\n",
    "for record in SeqIO.parse(out_file_non_rbp, \"fasta\"):\n",
    "    ctd_dict = CTD.CalculateCTD(str(record.seq))\n",
    "    ctd_list = list(ctd_dict.values())\n",
    "    ctd_all.append(ctd_list)\n",
    "    \n",
    "headers = list(ctd_dict.keys())\n",
    "    \n",
    "non_rbp_df = pd.DataFrame(ctd_all, columns=headers)\n",
    "non_rbp_df[\"target\"] = 0\n",
    "\n",
    "\n",
    "\n",
    "\n"
   ]
  },
  {
   "cell_type": "code",
   "execution_count": 4,
   "metadata": {},
   "outputs": [],
   "source": [
    "# create input and target array\n",
    "\n",
    "input_df = rbp_df.append(non_rbp_df, ignore_index=True)\n",
    "\n",
    "target_array = input_df[\"target\"].values\n",
    "\n",
    "input_array = input_df.drop([\"target\"], axis=1).values"
   ]
  },
  {
   "cell_type": "code",
   "execution_count": 5,
   "metadata": {},
   "outputs": [
    {
     "data": {
      "text/plain": [
       "(9873, 147)"
      ]
     },
     "execution_count": 5,
     "metadata": {},
     "output_type": "execute_result"
    }
   ],
   "source": [
    "# Scale input array\n",
    "\n",
    "scaler = StandardScaler()\n",
    "scaler.fit(input_array)\n",
    "scaled_input = scaler.transform(input_array)\n",
    "scaled_input.shape"
   ]
  },
  {
   "cell_type": "code",
   "execution_count": 6,
   "metadata": {},
   "outputs": [],
   "source": [
    "# train_test split\n",
    "\n",
    "X_train, X_test, y_train, y_test = train_test_split(scaled_input,\n",
    "                                                    target_array,\n",
    "                                                    test_size=0.2,\n",
    "                                                    random_state=42)"
   ]
  },
  {
   "cell_type": "code",
   "execution_count": 8,
   "metadata": {},
   "outputs": [
    {
     "data": {
      "text/plain": [
       "0.5888607594936709"
      ]
     },
     "execution_count": 8,
     "metadata": {},
     "output_type": "execute_result"
    }
   ],
   "source": [
    "# Benchmark with dummy classifier\n",
    "\n",
    "dummy_clf = DummyClassifier(strategy=\"stratified\")\n",
    "dummy_clf.fit(X_train, y_train)\n",
    "dummy_clf.score(X_test, y_test)"
   ]
  },
  {
   "cell_type": "code",
   "execution_count": 10,
   "metadata": {},
   "outputs": [
    {
     "name": "stderr",
     "output_type": "stream",
     "text": [
      "/home/mandela/anaconda3/lib/python3.7/site-packages/sklearn/ensemble/forest.py:245: FutureWarning: The default value of n_estimators will change from 10 in version 0.20 to 100 in 0.22.\n",
      "  \"10 in version 0.20 to 100 in 0.22.\", FutureWarning)\n"
     ]
    },
    {
     "data": {
      "text/plain": [
       "<matplotlib.axes._subplots.AxesSubplot at 0x7f33d2a95f60>"
      ]
     },
     "execution_count": 10,
     "metadata": {},
     "output_type": "execute_result"
    },
    {
     "data": {
      "image/png": "[encoded data removed]",
      "text/plain": [
       "<Figure size 432x288 with 1 Axes>"
      ]
     },
     "metadata": {
      "needs_background": "light"
     },
     "output_type": "display_data"
    }
   ],
   "source": [
    "model = ExtraTreesClassifier()\n",
    "model.fit(X_train,y_train)\n",
    "importance = pd.Series(model.feature_importances_, index=headers)\n",
    "importance.nlargest(20).plot(kind='barh')"
   ]
  },
  {
   "cell_type": "code",
   "execution_count": 7,
   "metadata": {},
   "outputs": [],
   "source": [
    "# classifiers\n",
    "\n",
    "names = [\"Nearest Neighbors\", \"Linear SVM\", \"RBF SVM\", \"Gaussian Process\",\n",
    "         \"Decision Tree\", \"Random Forest\", \"Neural Net\", \"AdaBoost\",\n",
    "         \"Naive Bayes\", \"QDA\"]\n",
    "\n",
    "classifiers = [\n",
    "    KNeighborsClassifier(),\n",
    "    SVC(kernel=\"linear\", C=0.025),\n",
    "    SVC(gamma=\"scale\", C=1),\n",
    "    GaussianProcessClassifier(1.0 * RBF(1.0)),\n",
    "    DecisionTreeClassifier(max_depth=5),\n",
    "    RandomForestClassifier(max_depth=5, n_estimators=10, max_features=1),\n",
    "    MLPClassifier(alpha=1, max_iter=40),\n",
    "    AdaBoostClassifier(),\n",
    "    GaussianNB(),\n",
    "    QuadraticDiscriminantAnalysis()]"
   ]
  },
  {
   "cell_type": "code",
   "execution_count": null,
   "metadata": {},
   "outputs": [
    {
     "name": "stdout",
     "output_type": "stream",
     "text": [
      "Nearest Neighbors\n",
      "accuracy: 0.8177215189873418\n",
      "report:\n",
      "              precision    recall  f1-score   support\n",
      "\n",
      "           0       0.90      0.84      0.87      1414\n",
      "           1       0.65      0.76      0.70       561\n",
      "\n",
      "    accuracy                           0.82      1975\n",
      "   macro avg       0.78      0.80      0.79      1975\n",
      "weighted avg       0.83      0.82      0.82      1975\n",
      "\n",
      "Linear SVM\n",
      "accuracy: 0.9169620253164557\n",
      "report:\n",
      "              precision    recall  f1-score   support\n",
      "\n",
      "           0       0.94      0.95      0.94      1414\n",
      "           1       0.87      0.83      0.85       561\n",
      "\n",
      "    accuracy                           0.92      1975\n",
      "   macro avg       0.90      0.89      0.90      1975\n",
      "weighted avg       0.92      0.92      0.92      1975\n",
      "\n",
      "RBF SVM\n",
      "accuracy: 0.9169620253164557\n",
      "report:\n",
      "              precision    recall  f1-score   support\n",
      "\n",
      "           0       0.93      0.96      0.94      1414\n",
      "           1       0.89      0.81      0.85       561\n",
      "\n",
      "    accuracy                           0.92      1975\n",
      "   macro avg       0.91      0.88      0.89      1975\n",
      "weighted avg       0.92      0.92      0.92      1975\n",
      "\n"
     ]
    }
   ],
   "source": [
    "# compare different classifiers\n",
    "\n",
    "for name, clf in zip(names, classifiers):\n",
    "    model = clf\n",
    "    model.fit(X_train, y_train)\n",
    "    y_pred = model.predict(X_test)\n",
    "    accuracy = accuracy_score(y_test,y_pred)\n",
    "    report = classification_report(y_test, y_pred)\n",
    "    print(name)\n",
    "    print(\"accuracy: {}\".format(accuracy))\n",
    "    print(\"report:\")\n",
    "    print(report)\n"
   ]
  },
  {
   "cell_type": "code",
   "execution_count": null,
   "metadata": {},
   "outputs": [],
   "source": []
  }
 ],
 "metadata": {
  "kernelspec": {
   "display_name": "Python 3",
   "language": "python",
   "name": "python3"
  },
  "language_info": {
   "codemirror_mode": {
    "name": "ipython",
    "version": 3
   },
   "file_extension": ".py",
   "mimetype": "text/x-python",
   "name": "python",
   "nbconvert_exporter": "python",
   "pygments_lexer": "ipython3",
   "version": "3.7.3"
  }
 },
 "nbformat": 4,
 "nbformat_minor": 2
}
