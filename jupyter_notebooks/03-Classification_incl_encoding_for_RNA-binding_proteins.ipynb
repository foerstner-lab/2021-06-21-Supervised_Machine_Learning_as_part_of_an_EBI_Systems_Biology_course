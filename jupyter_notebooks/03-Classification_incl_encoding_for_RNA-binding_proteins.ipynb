{
 "cells": [
  {
   "cell_type": "markdown",
   "metadata": {},
   "source": [
    "# Classification of RNA-binding proteins vs. non-RNA-binding proteins \n",
    "\n",
    "Background:\n",
    "* [RBPPred: predicting RNA-binding proteins from sequence using SVM](https://academic.oup.com/bioinformatics/article/33/6/854/2557689), Zhang & Liu, 2016\n",
    "* [Prediction of protein folding class using global description of amino acid sequence.](https://www.ncbi.nlm.nih.gov/pmc/articles/PMC41034/), Dubchak et al., 1995\n",
    "* [PyBioMed: a python library for various molecular representations of chemicals, proteins and DNAs and their interactions](https://jcheminf.biomedcentral.com/articles/10.1186/s13321-018-0270-2), Dong et. al, 2018\n",
    "* [CTD module](http://projects.scbdd.com/pybiomed/reference/CTD.html) for computing the composition, transition and distribution descriptors based on the different properties\n",
    "* [Table of standard amino acid abbreviations and properties](https://en.wikipedia.org/wiki/Amino_acid#Table_of_standard_amino_acid_abbreviations_and_properties)\n",
    "\n",
    "\n",
    "\n"
   ]
  },
  {
   "cell_type": "code",
   "execution_count": null,
   "metadata": {},
   "outputs": [],
   "source": [
    "# Installation - run only if needed\n",
    "\n",
    "# Most packages can be installed via pip\n",
    "%pip install biopython\n",
    "%pip install pandas\n",
    "%pip install numpy\n",
    "%pip install scikit-learn\n",
    "\n",
    "# ... not the case for PyBioMed\n",
    "# option 1:\n",
    "! curl -O https://github.com/gadsbyfly/PyBioMed/archive/refs/heads/master.zip && unzip master.zip && cd PyBioMed-master && python setup.py install\n",
    "# option 2:\n",
    "! curl -O https://github.com/gadsbyfly/PyBioMed/archive/refs/heads/master.zip && unzip master.zip && ln -s PyBioMed-master/PyBioMed\n",
    "# option 3:\n",
    "import urllib.request\n",
    "import zipfile\n",
    "import os\n",
    "urllib.request.urlretrieve(\"https://github.com/gadsbyfly/PyBioMed/archive/refs/heads/master.zip\", \"master.zip\")\n",
    "import zipfile\n",
    "with zipfile.ZipFile(\"master.zip\", \"r\") as zip_fh:\n",
    "    zip_fh.extractall(\"PyBioMed-master\")\n",
    "os.symlink(\"PyBioMed-master/PyBioMed\", \"PyBioMed\")"
   ]
  },
  {
   "cell_type": "markdown",
   "metadata": {},
   "source": [
    "#### pandas\n",
    "fast, powerful, flexible and easy to use open source data analysis and manipulation tool for python.\n",
    "#### numpy\n",
    "essential component in the burgeoning Python visualization landscape.\n",
    "#### urllib.request\n",
    "fetching URLs (Uniform Resource Locators). It offers a very simple interface, in the form of the urlopen function. This is capable of fetching URLs using a variety of different protocols.\n",
    "#### Bio.SeqIO\n",
    "Biopython is a set of freely available tools for biological computation. SeqIO is a handler module for the formats in the SeqIO set.\n",
    "#### PyBioMed.PyProtein.CTD\n",
    "PyBioMed is a python package that can be used to analyze and represent various complex molecular data under investigation. CTD is a method used for computing distribution descriptors.\n",
    "#### scikit-learn\n",
    "Simple and efficient tools for predictive data analysis.\n",
    "##### StandardScaler\n",
    "standardize the distribution making the values lie in the same range.\n",
    "##### train_test_split\n",
    "Using the function train_test_split() from scikit-learn, you can split your dataset into subsets that minimize the potential for bias in your evaluation and validation process.\n",
    "##### cross_val_score\n",
    "takes an average over cross-validation folds, whereas cross_val_predict simply returns the labels (or probabilities) from several distinct models undistinguished.\n",
    "##### GridSearchCV\n",
    "grid search for hyperparameter tuning.\n",
    "##### DummyClassifier\n",
    "a classifier that makes predictions using simple rules. This classifier is useful as a simple baseline to compare with other (real) classifiers.\n",
    "##### MLPClassifier\n",
    "trains iteratively since at each time step the partial derivatives of the loss function with respect to the model parameters are computed to update the parameters. It can also have a regularization term added to the loss function that shrinks model parameters to prevent overfitting.\n",
    "##### KNeighborsClassifier\n",
    "implements learning based on the k nearest neighbors of each query point, where k is an integer value specified by the user.\n",
    "##### SVC\n",
    "C-support vector classification whose implementation is based on libsvm. The module used by scikit-learn is sklearn.svm.SVC. This class handles the multiclass support according to one-vs-one scheme.\n",
    "##### RBF\n",
    "a stationary kernel. It is also known as the \"squared exponential\" kernel. It is parameterized by a length scale parameter l > 0, which can either be a scalar (isotropic variant of the kernel) or a vector with the same number of dimensions as the inputs X (anisotropic variant of the kernel).\n",
    "##### DecisionTreeClassifier\n",
    "a non-parametric supervised learning method used for classification and regression. The goal is to create a model that predicts the value of a target variable by learning simple decision rules inferred from the data features.\n",
    "##### RandomForestClassifier\n",
    "A random forest is a meta estimator that fits a number of decision tree classifiers on various sub-samples of the dataset and uses averaging to improve the predictive accuracy and control over-fitting.\n",
    "##### AdaBoostClassifier\n",
    "a meta-estimator that begins by fitting a classifier on the original dataset and then fits additional copies of the classifier on the same dataset but where the weights of incorrectly classified instances are adjusted such that subsequent classifiers focus more on difficult cases.\n",
    "##### classification_report\n",
    "is about key metrics in a classification problem. You'll have precision, recall, f1-score and support for each class you're trying to find. The recall means \"how many of this class you find over the whole number of element of this class\".\n",
    "##### confusion_matrix\n",
    "evaluate the quality of the output of a classifier on the iris data set. The diagonal elements represent the number of points for which the predicted label is equal to the true label, while off-diagonal elements are those that are mislabeled by the classifier. The higher the diagonal values of the confusion matrix the better, indicating many correct predictions.\n",
    "##### accuracy_score\n",
    "computes the accuracy, either the fraction (default) or the count (normalize=False) of correct predictions. "
   ]
  },
  {
   "cell_type": "code",
   "execution_count": 1,
   "metadata": {},
   "outputs": [],
   "source": [
    "import pandas as pd\n",
    "import numpy as np\n",
    "import urllib.request\n",
    "from Bio import SeqIO\n",
    "from PyBioMed.PyProtein import CTD\n",
    "\n",
    "from sklearn.preprocessing import StandardScaler\n",
    "from sklearn.model_selection import train_test_split\n",
    "from sklearn.model_selection import cross_val_score\n",
    "from sklearn.model_selection import GridSearchCV\n",
    "from sklearn.dummy import DummyClassifier\n",
    "\n",
    "# classifiers\n",
    "from sklearn.neural_network import MLPClassifier\n",
    "from sklearn.neighbors import KNeighborsClassifier\n",
    "from sklearn.svm import SVC\n",
    "from sklearn.gaussian_process.kernels import RBF\n",
    "from sklearn.tree import DecisionTreeClassifier\n",
    "from sklearn.ensemble import RandomForestClassifier, AdaBoostClassifier\n",
    "from sklearn.naive_bayes import GaussianNB\n",
    "\n",
    "# evaluation\n",
    "from sklearn.metrics import classification_report, confusion_matrix, accuracy_score"
   ]
  },
  {
   "cell_type": "code",
   "execution_count": 8,
   "metadata": {},
   "outputs": [],
   "source": [
    "rbs_seq_file = \"rbp_sequences.faa\"\n",
    "non_rbs_seq_file = \"non_rbp_sequences.faa\""
   ]
  },
  {
   "cell_type": "code",
   "execution_count": 9,
   "metadata": {},
   "outputs": [
    {
     "data": {
      "text/plain": [
       "('non_rbp_sequences.faa', <http.client.HTTPMessage at 0x7f53803be070>)"
      ]
     },
     "execution_count": 9,
     "metadata": {},
     "output_type": "execute_result"
    }
   ],
   "source": [
    "# Dowload datatsets (rbp_sequences.faa = 1.9 Mb, non_rbp_sequences.faa = 2.6 Mb)\n",
    "urllib.request.urlretrieve(\"http://rnabinding.com/RBP2780\", rbs_seq_file)\n",
    "urllib.request.urlretrieve(\"http://rnabinding.com/non-RBP7093\", non_rbs_seq_file)"
   ]
  },
  {
   "cell_type": "code",
   "execution_count": 3,
   "metadata": {},
   "outputs": [
    {
     "data": {
      "text/plain": [
       "{'_PolarizabilityC1': 0.545,\n",
       " '_PolarizabilityC2': 0.0,\n",
       " '_PolarizabilityC3': 0.455,\n",
       " '_SolventAccessibilityC1': 0.545,\n",
       " '_SolventAccessibilityC2': 0.455,\n",
       " '_SolventAccessibilityC3': 0.0,\n",
       " '_SecondaryStrC1': 0.545,\n",
       " '_SecondaryStrC2': 0.0,\n",
       " '_SecondaryStrC3': 0.455,\n",
       " '_ChargeC1': 0.455,\n",
       " '_ChargeC2': 0.545,\n",
       " '_ChargeC3': 0.0,\n",
       " '_PolarityC1': 0.0,\n",
       " '_PolarityC2': 0.0,\n",
       " '_PolarityC3': 0.455,\n",
       " '_NormalizedVDWVC1': 0.545,\n",
       " '_NormalizedVDWVC2': 0.0,\n",
       " '_NormalizedVDWVC3': 0.455,\n",
       " '_HydrophobicityC1': 0.455,\n",
       " '_HydrophobicityC2': 0.545,\n",
       " '_HydrophobicityC3': 0.0,\n",
       " '_PolarizabilityT12': 0.0,\n",
       " '_PolarizabilityT13': 0.2,\n",
       " '_PolarizabilityT23': 0.0,\n",
       " '_SolventAccessibilityT12': 0.2,\n",
       " '_SolventAccessibilityT13': 0.0,\n",
       " '_SolventAccessibilityT23': 0.0,\n",
       " '_SecondaryStrT12': 0.0,\n",
       " '_SecondaryStrT13': 0.1,\n",
       " '_SecondaryStrT23': 0.0,\n",
       " '_ChargeT12': 0.2,\n",
       " '_ChargeT13': 0.0,\n",
       " '_ChargeT23': 0.0,\n",
       " '_PolarityT12': 0.0,\n",
       " '_PolarityT13': 0.0,\n",
       " '_PolarityT23': 0.0,\n",
       " '_NormalizedVDWVT12': 0.0,\n",
       " '_NormalizedVDWVT13': 0.2,\n",
       " '_NormalizedVDWVT23': 0.0,\n",
       " '_HydrophobicityT12': 0.2,\n",
       " '_HydrophobicityT13': 0.0,\n",
       " '_HydrophobicityT23': 0.0,\n",
       " '_PolarizabilityD1001': 9.091,\n",
       " '_PolarizabilityD1025': 9.091,\n",
       " '_PolarizabilityD1050': 72.727,\n",
       " '_PolarizabilityD1075': 81.818,\n",
       " '_PolarizabilityD1100': 100.0,\n",
       " '_PolarizabilityD2001': 0,\n",
       " '_PolarizabilityD2025': 0,\n",
       " '_PolarizabilityD2050': 0,\n",
       " '_PolarizabilityD2075': 0,\n",
       " '_PolarizabilityD2100': 0,\n",
       " '_PolarizabilityD3001': 18.182,\n",
       " '_PolarizabilityD3025': 18.182,\n",
       " '_PolarizabilityD3050': 27.273,\n",
       " '_PolarizabilityD3075': 36.364,\n",
       " '_PolarizabilityD3100': 54.545,\n",
       " '_SolventAccessibilityD1001': 9.091,\n",
       " '_SolventAccessibilityD1025': 9.091,\n",
       " '_SolventAccessibilityD1050': 72.727,\n",
       " '_SolventAccessibilityD1075': 81.818,\n",
       " '_SolventAccessibilityD1100': 100.0,\n",
       " '_SolventAccessibilityD2001': 18.182,\n",
       " '_SolventAccessibilityD2025': 18.182,\n",
       " '_SolventAccessibilityD2050': 27.273,\n",
       " '_SolventAccessibilityD2075': 36.364,\n",
       " '_SolventAccessibilityD2100': 54.545,\n",
       " '_SolventAccessibilityD3001': 0,\n",
       " '_SolventAccessibilityD3025': 0,\n",
       " '_SolventAccessibilityD3050': 0,\n",
       " '_SolventAccessibilityD3075': 0,\n",
       " '_SolventAccessibilityD3100': 0,\n",
       " '_SecondaryStrD1001': 9.091,\n",
       " '_SecondaryStrD1025': 9.091,\n",
       " '_SecondaryStrD1050': 27.273,\n",
       " '_SecondaryStrD1075': 36.364,\n",
       " '_SecondaryStrD1100': 54.545,\n",
       " '_SecondaryStrD2001': 0,\n",
       " '_SecondaryStrD2025': 0,\n",
       " '_SecondaryStrD2050': 0,\n",
       " '_SecondaryStrD2075': 0,\n",
       " '_SecondaryStrD2100': 0,\n",
       " '_SecondaryStrD3001': 63.636,\n",
       " '_SecondaryStrD3025': 63.636,\n",
       " '_SecondaryStrD3050': 72.727,\n",
       " '_SecondaryStrD3075': 81.818,\n",
       " '_SecondaryStrD3100': 100.0,\n",
       " '_ChargeD1001': 18.182,\n",
       " '_ChargeD1025': 18.182,\n",
       " '_ChargeD1050': 27.273,\n",
       " '_ChargeD1075': 36.364,\n",
       " '_ChargeD1100': 54.545,\n",
       " '_ChargeD2001': 9.091,\n",
       " '_ChargeD2025': 9.091,\n",
       " '_ChargeD2050': 72.727,\n",
       " '_ChargeD2075': 81.818,\n",
       " '_ChargeD2100': 100.0,\n",
       " '_ChargeD3001': 0,\n",
       " '_ChargeD3025': 0,\n",
       " '_ChargeD3050': 0,\n",
       " '_ChargeD3075': 0,\n",
       " '_ChargeD3100': 0,\n",
       " '_PolarityD1001': 0,\n",
       " '_PolarityD1025': 0,\n",
       " '_PolarityD1050': 0,\n",
       " '_PolarityD1075': 0,\n",
       " '_PolarityD1100': 0,\n",
       " '_PolarityD2001': 0,\n",
       " '_PolarityD2025': 0,\n",
       " '_PolarityD2050': 0,\n",
       " '_PolarityD2075': 0,\n",
       " '_PolarityD2100': 0,\n",
       " '_PolarityD3001': 18.182,\n",
       " '_PolarityD3025': 18.182,\n",
       " '_PolarityD3050': 27.273,\n",
       " '_PolarityD3075': 36.364,\n",
       " '_PolarityD3100': 54.545,\n",
       " '_NormalizedVDWVD1001': 9.091,\n",
       " '_NormalizedVDWVD1025': 9.091,\n",
       " '_NormalizedVDWVD1050': 72.727,\n",
       " '_NormalizedVDWVD1075': 81.818,\n",
       " '_NormalizedVDWVD1100': 100.0,\n",
       " '_NormalizedVDWVD2001': 0,\n",
       " '_NormalizedVDWVD2025': 0,\n",
       " '_NormalizedVDWVD2050': 0,\n",
       " '_NormalizedVDWVD2075': 0,\n",
       " '_NormalizedVDWVD2100': 0,\n",
       " '_NormalizedVDWVD3001': 18.182,\n",
       " '_NormalizedVDWVD3025': 18.182,\n",
       " '_NormalizedVDWVD3050': 27.273,\n",
       " '_NormalizedVDWVD3075': 36.364,\n",
       " '_NormalizedVDWVD3100': 54.545,\n",
       " '_HydrophobicityD1001': 18.182,\n",
       " '_HydrophobicityD1025': 18.182,\n",
       " '_HydrophobicityD1050': 27.273,\n",
       " '_HydrophobicityD1075': 36.364,\n",
       " '_HydrophobicityD1100': 54.545,\n",
       " '_HydrophobicityD2001': 9.091,\n",
       " '_HydrophobicityD2025': 9.091,\n",
       " '_HydrophobicityD2050': 72.727,\n",
       " '_HydrophobicityD2075': 81.818,\n",
       " '_HydrophobicityD2100': 100.0,\n",
       " '_HydrophobicityD3001': 0,\n",
       " '_HydrophobicityD3025': 0,\n",
       " '_HydrophobicityD3050': 0,\n",
       " '_HydrophobicityD3075': 0,\n",
       " '_HydrophobicityD3100': 0}"
      ]
     },
     "execution_count": 3,
     "metadata": {},
     "output_type": "execute_result"
    }
   ],
   "source": [
    "# Encoding for an example protein\n",
    "CTD.CalculateCTD(\"ARRRRRGGGGG\")"
   ]
  },
  {
   "cell_type": "code",
   "execution_count": 4,
   "metadata": {},
   "outputs": [
    {
     "data": {
      "text/plain": [
       "{'_PolarizabilityC1': 0.286,\n",
       " '_PolarizabilityC2': 0.714,\n",
       " '_PolarizabilityC3': 0.0,\n",
       " '_SolventAccessibilityC1': 0.0,\n",
       " '_SolventAccessibilityC2': 0.714,\n",
       " '_SolventAccessibilityC3': 0.286,\n",
       " '_SecondaryStrC1': 0.357,\n",
       " '_SecondaryStrC2': 0.0,\n",
       " '_SecondaryStrC3': 0.643,\n",
       " '_ChargeC1': 0.0,\n",
       " '_ChargeC2': 1.0,\n",
       " '_ChargeC3': 0.0,\n",
       " '_PolarityC1': 0.0,\n",
       " '_PolarityC2': 0.714,\n",
       " '_PolarityC3': 0.0,\n",
       " '_NormalizedVDWVC1': 0.286,\n",
       " '_NormalizedVDWVC2': 0.714,\n",
       " '_NormalizedVDWVC3': 0.0,\n",
       " '_HydrophobicityC1': 0.714,\n",
       " '_HydrophobicityC2': 0.286,\n",
       " '_HydrophobicityC3': 0.0,\n",
       " '_PolarizabilityT12': 0.077,\n",
       " '_PolarizabilityT13': 0.0,\n",
       " '_PolarizabilityT23': 0.0,\n",
       " '_SolventAccessibilityT12': 0.0,\n",
       " '_SolventAccessibilityT13': 0.0,\n",
       " '_SolventAccessibilityT23': 0.077,\n",
       " '_SecondaryStrT12': 0.0,\n",
       " '_SecondaryStrT13': 0.154,\n",
       " '_SecondaryStrT23': 0.0,\n",
       " '_ChargeT12': 0.0,\n",
       " '_ChargeT13': 0.0,\n",
       " '_ChargeT23': 0.0,\n",
       " '_PolarityT12': 0.0,\n",
       " '_PolarityT13': 0.0,\n",
       " '_PolarityT23': 0.0,\n",
       " '_NormalizedVDWVT12': 0.077,\n",
       " '_NormalizedVDWVT13': 0.0,\n",
       " '_NormalizedVDWVT23': 0.0,\n",
       " '_HydrophobicityT12': 0.077,\n",
       " '_HydrophobicityT13': 0.0,\n",
       " '_HydrophobicityT23': 0.0,\n",
       " '_PolarizabilityD1001': 78.571,\n",
       " '_PolarizabilityD1025': 78.571,\n",
       " '_PolarizabilityD1050': 85.714,\n",
       " '_PolarizabilityD1075': 92.857,\n",
       " '_PolarizabilityD1100': 100.0,\n",
       " '_PolarizabilityD2001': 7.143,\n",
       " '_PolarizabilityD2025': 14.286,\n",
       " '_PolarizabilityD2050': 35.714,\n",
       " '_PolarizabilityD2075': 50.0,\n",
       " '_PolarizabilityD2100': 71.429,\n",
       " '_PolarizabilityD3001': 0,\n",
       " '_PolarizabilityD3025': 0,\n",
       " '_PolarizabilityD3050': 0,\n",
       " '_PolarizabilityD3075': 0,\n",
       " '_PolarizabilityD3100': 0,\n",
       " '_SolventAccessibilityD1001': 0,\n",
       " '_SolventAccessibilityD1025': 0,\n",
       " '_SolventAccessibilityD1050': 0,\n",
       " '_SolventAccessibilityD1075': 0,\n",
       " '_SolventAccessibilityD1100': 0,\n",
       " '_SolventAccessibilityD2001': 7.143,\n",
       " '_SolventAccessibilityD2025': 14.286,\n",
       " '_SolventAccessibilityD2050': 35.714,\n",
       " '_SolventAccessibilityD2075': 50.0,\n",
       " '_SolventAccessibilityD2100': 71.429,\n",
       " '_SolventAccessibilityD3001': 78.571,\n",
       " '_SolventAccessibilityD3025': 78.571,\n",
       " '_SolventAccessibilityD3050': 85.714,\n",
       " '_SolventAccessibilityD3075': 92.857,\n",
       " '_SolventAccessibilityD3100': 100.0,\n",
       " '_SecondaryStrD1001': 42.857,\n",
       " '_SecondaryStrD1025': 42.857,\n",
       " '_SecondaryStrD1050': 50.0,\n",
       " '_SecondaryStrD1075': 57.143,\n",
       " '_SecondaryStrD1100': 71.429,\n",
       " '_SecondaryStrD2001': 0,\n",
       " '_SecondaryStrD2025': 0,\n",
       " '_SecondaryStrD2050': 0,\n",
       " '_SecondaryStrD2075': 0,\n",
       " '_SecondaryStrD2100': 0,\n",
       " '_SecondaryStrD3001': 7.143,\n",
       " '_SecondaryStrD3025': 14.286,\n",
       " '_SecondaryStrD3050': 28.571,\n",
       " '_SecondaryStrD3075': 78.571,\n",
       " '_SecondaryStrD3100': 100.0,\n",
       " '_ChargeD1001': 0,\n",
       " '_ChargeD1025': 0,\n",
       " '_ChargeD1050': 0,\n",
       " '_ChargeD1075': 0,\n",
       " '_ChargeD1100': 0,\n",
       " '_ChargeD2001': 7.143,\n",
       " '_ChargeD2025': 21.429,\n",
       " '_ChargeD2050': 50.0,\n",
       " '_ChargeD2075': 71.429,\n",
       " '_ChargeD2100': 100.0,\n",
       " '_ChargeD3001': 0,\n",
       " '_ChargeD3025': 0,\n",
       " '_ChargeD3050': 0,\n",
       " '_ChargeD3075': 0,\n",
       " '_ChargeD3100': 0,\n",
       " '_PolarityD1001': 0,\n",
       " '_PolarityD1025': 0,\n",
       " '_PolarityD1050': 0,\n",
       " '_PolarityD1075': 0,\n",
       " '_PolarityD1100': 0,\n",
       " '_PolarityD2001': 7.143,\n",
       " '_PolarityD2025': 14.286,\n",
       " '_PolarityD2050': 35.714,\n",
       " '_PolarityD2075': 50.0,\n",
       " '_PolarityD2100': 71.429,\n",
       " '_PolarityD3001': 0,\n",
       " '_PolarityD3025': 0,\n",
       " '_PolarityD3050': 0,\n",
       " '_PolarityD3075': 0,\n",
       " '_PolarityD3100': 0,\n",
       " '_NormalizedVDWVD1001': 78.571,\n",
       " '_NormalizedVDWVD1025': 78.571,\n",
       " '_NormalizedVDWVD1050': 85.714,\n",
       " '_NormalizedVDWVD1075': 92.857,\n",
       " '_NormalizedVDWVD1100': 100.0,\n",
       " '_NormalizedVDWVD2001': 7.143,\n",
       " '_NormalizedVDWVD2025': 14.286,\n",
       " '_NormalizedVDWVD2050': 35.714,\n",
       " '_NormalizedVDWVD2075': 50.0,\n",
       " '_NormalizedVDWVD2100': 71.429,\n",
       " '_NormalizedVDWVD3001': 0,\n",
       " '_NormalizedVDWVD3025': 0,\n",
       " '_NormalizedVDWVD3050': 0,\n",
       " '_NormalizedVDWVD3075': 0,\n",
       " '_NormalizedVDWVD3100': 0,\n",
       " '_HydrophobicityD1001': 7.143,\n",
       " '_HydrophobicityD1025': 14.286,\n",
       " '_HydrophobicityD1050': 35.714,\n",
       " '_HydrophobicityD1075': 50.0,\n",
       " '_HydrophobicityD1100': 71.429,\n",
       " '_HydrophobicityD2001': 78.571,\n",
       " '_HydrophobicityD2025': 78.571,\n",
       " '_HydrophobicityD2050': 85.714,\n",
       " '_HydrophobicityD2075': 92.857,\n",
       " '_HydrophobicityD2100': 100.0,\n",
       " '_HydrophobicityD3001': 0,\n",
       " '_HydrophobicityD3025': 0,\n",
       " '_HydrophobicityD3050': 0,\n",
       " '_HydrophobicityD3075': 0,\n",
       " '_HydrophobicityD3100': 0}"
      ]
     },
     "execution_count": 4,
     "metadata": {},
     "output_type": "execute_result"
    }
   ],
   "source": [
    "# Ecoding for anothe example protein\n",
    "CTD.CalculateCTD(\"NNNNNQQQQQSSSS\")"
   ]
  },
  {
   "cell_type": "code",
   "execution_count": 10,
   "metadata": {},
   "outputs": [],
   "source": [
    "# Feature encoding using global amino acid descriptors\n",
    " \n",
    "# RBP\n",
    "ctd_all = []\n",
    "\n",
    "for record in SeqIO.parse(rbs_seq_file, \"fasta\"):\n",
    "    ctd_dict = CTD.CalculateCTD(str(record.seq))\n",
    "    ctd_list = list(ctd_dict.values())\n",
    "    ctd_all.append(ctd_list)\n",
    "    \n",
    "headers = list(ctd_dict.keys())\n",
    "    \n",
    "rbp_df = pd.DataFrame(ctd_all, columns=headers)\n",
    "rbp_df[\"target\"] = 1\n",
    "\n",
    "\n",
    "# non-RBP\n",
    "\n",
    "ctd_all = []\n",
    "for record in SeqIO.parse(non_rbs_seq_file, \"fasta\"):\n",
    "    ctd_dict = CTD.CalculateCTD(str(record.seq))\n",
    "    ctd_list = list(ctd_dict.values())\n",
    "    ctd_all.append(ctd_list)\n",
    "    \n",
    "headers = list(ctd_dict.keys())\n",
    "    \n",
    "non_rbp_df = pd.DataFrame(ctd_all, columns=headers)\n",
    "non_rbp_df[\"target\"] = 0"
   ]
  },
  {
   "cell_type": "code",
   "execution_count": 11,
   "metadata": {},
   "outputs": [
    {
     "data": {
      "text/plain": [
       "(2780, 148)"
      ]
     },
     "execution_count": 11,
     "metadata": {},
     "output_type": "execute_result"
    }
   ],
   "source": [
    "rbp_df.shape"
   ]
  },
  {
   "cell_type": "code",
   "execution_count": 12,
   "metadata": {},
   "outputs": [
    {
     "data": {
      "text/plain": [
       "(7093, 148)"
      ]
     },
     "execution_count": 12,
     "metadata": {},
     "output_type": "execute_result"
    }
   ],
   "source": [
    "non_rbp_df.shape"
   ]
  },
  {
   "cell_type": "code",
   "execution_count": 13,
   "metadata": {},
   "outputs": [],
   "source": [
    "# Create input Matrix and target array\n",
    "\n",
    "input_df = rbp_df.append(non_rbp_df, ignore_index=True)\n",
    "\n",
    "X_proteins = input_df.drop([\"target\"], axis=1).values\n",
    "target_classes = input_df[\"target\"].values\n",
    "\n"
   ]
  },
  {
   "cell_type": "code",
   "execution_count": 14,
   "metadata": {},
   "outputs": [
    {
     "data": {
      "text/plain": [
       "(9873,)"
      ]
     },
     "execution_count": 14,
     "metadata": {},
     "output_type": "execute_result"
    }
   ],
   "source": [
    "target_classes.shape"
   ]
  },
  {
   "cell_type": "code",
   "execution_count": 15,
   "metadata": {},
   "outputs": [
    {
     "data": {
      "text/plain": [
       "(9873, 147)"
      ]
     },
     "execution_count": 15,
     "metadata": {},
     "output_type": "execute_result"
    }
   ],
   "source": [
    "X_proteins.shape"
   ]
  },
  {
   "cell_type": "code",
   "execution_count": 16,
   "metadata": {},
   "outputs": [
    {
     "data": {
      "text/plain": [
       "(9873, 147)"
      ]
     },
     "execution_count": 16,
     "metadata": {},
     "output_type": "execute_result"
    }
   ],
   "source": [
    "# Scale input matrix values\n",
    "\n",
    "scaler = StandardScaler()\n",
    "scaler.fit(X_proteins)\n",
    "X_proteins_scaled = scaler.transform(X_proteins)\n",
    "X_proteins_scaled.shape"
   ]
  },
  {
   "cell_type": "code",
   "execution_count": 17,
   "metadata": {},
   "outputs": [],
   "source": [
    "# Generate training and test sets\n",
    "\n",
    "X_train, X_test, y_train, y_test = train_test_split(X_proteins,\n",
    "                                                    target_classes,\n",
    "                                                    random_state=42)"
   ]
  },
  {
   "cell_type": "code",
   "execution_count": 18,
   "metadata": {},
   "outputs": [
    {
     "data": {
      "text/plain": [
       "0.5953827460510328"
      ]
     },
     "execution_count": 18,
     "metadata": {},
     "output_type": "execute_result"
    }
   ],
   "source": [
    "# Benchmark with dummy classifier\n",
    "\n",
    "dummy_clf = DummyClassifier(strategy=\"stratified\")\n",
    "dummy_clf.fit(X_train, y_train)\n",
    "dummy_clf.score(X_test, y_test)"
   ]
  },
  {
   "cell_type": "code",
   "execution_count": 19,
   "metadata": {},
   "outputs": [
    {
     "data": {
      "text/plain": [
       "0.774807614418793"
      ]
     },
     "execution_count": 19,
     "metadata": {},
     "output_type": "execute_result"
    }
   ],
   "source": [
    "model = MLPClassifier(random_state=42)\n",
    "model.fit(X_train, y_train)\n",
    "model.score(X_test, y_test)"
   ]
  },
  {
   "cell_type": "code",
   "execution_count": 17,
   "metadata": {},
   "outputs": [
    {
     "name": "stdout",
     "output_type": "stream",
     "text": [
      "0.9210206561360875\n"
     ]
    },
    {
     "data": {
      "text/plain": [
       "<AxesSubplot:>"
      ]
     },
     "execution_count": 17,
     "metadata": {},
     "output_type": "execute_result"
    },
    {
     "data": {
      "image/png": "[encoded data removed]",
      "text/plain": [
       "<Figure size 432x288 with 1 Axes>"
      ]
     },
     "metadata": {
      "needs_background": "light"
     },
     "output_type": "display_data"
    }
   ],
   "source": [
    "model = RandomForestClassifier(n_jobs=5, random_state=42)\n",
    "model.fit(X_train, y_train)\n",
    "model.fit(X_train, y_train)\n",
    "print(model.score(X_test, y_test))\n",
    "importance = pd.Series(model.feature_importances_, index=headers)\n",
    "importance.nlargest(20).plot(kind='barh')"
   ]
  },
  {
   "cell_type": "code",
   "execution_count": 21,
   "metadata": {},
   "outputs": [],
   "source": [
    "# Set up different classifiers\n",
    "\n",
    "names = [\"K-Nearest Neighbors\", \"Naive Bayes\", \"Linear SVM\", \"RBF SVM\", \n",
    "         \"Decision Tree\", \"Random Forest\", \"Neural Net\", \"AdaBoost\"]\n",
    "\n",
    "classifiers = [\n",
    "    KNeighborsClassifier(),\n",
    "    GaussianNB(),\n",
    "    SVC(kernel=\"linear\", C=0.025),\n",
    "    SVC(gamma=\"scale\", C=1),\n",
    "    DecisionTreeClassifier(),\n",
    "    RandomForestClassifier(),\n",
    "    MLPClassifier(),\n",
    "    AdaBoostClassifier()]"
   ]
  },
  {
   "cell_type": "code",
   "execution_count": 22,
   "metadata": {},
   "outputs": [
    {
     "name": "stdout",
     "output_type": "stream",
     "text": [
      "###### K-Nearest Neighbors #######\n",
      "accuracy: 0.7569866342648846\n",
      "report:\n",
      "              precision    recall  f1-score   support\n",
      "\n",
      "           0       0.84      0.81      0.83      1761\n",
      "           1       0.57      0.62      0.59       708\n",
      "\n",
      "    accuracy                           0.76      2469\n",
      "   macro avg       0.71      0.71      0.71      2469\n",
      "weighted avg       0.76      0.76      0.76      2469\n",
      "\n",
      "------------------------------\n",
      "\n",
      "###### Naive Bayes #######\n",
      "accuracy: 0.7035236938031592\n",
      "report:\n",
      "              precision    recall  f1-score   support\n",
      "\n",
      "           0       0.95      0.61      0.75      1761\n",
      "           1       0.49      0.93      0.64       708\n",
      "\n",
      "    accuracy                           0.70      2469\n",
      "   macro avg       0.72      0.77      0.69      2469\n",
      "weighted avg       0.82      0.70      0.72      2469\n",
      "\n",
      "------------------------------\n",
      "\n",
      "###### Linear SVM #######\n",
      "accuracy: 0.8849736735520454\n",
      "report:\n",
      "              precision    recall  f1-score   support\n",
      "\n",
      "           0       0.92      0.92      0.92      1761\n",
      "           1       0.80      0.80      0.80       708\n",
      "\n",
      "    accuracy                           0.88      2469\n",
      "   macro avg       0.86      0.86      0.86      2469\n",
      "weighted avg       0.89      0.88      0.89      2469\n",
      "\n",
      "------------------------------\n",
      "\n",
      "###### RBF SVM #######\n",
      "accuracy: 0.7168894289185905\n",
      "report:\n",
      "              precision    recall  f1-score   support\n",
      "\n",
      "           0       0.72      1.00      0.83      1761\n",
      "           1       0.80      0.02      0.03       708\n",
      "\n",
      "    accuracy                           0.72      2469\n",
      "   macro avg       0.76      0.51      0.43      2469\n",
      "weighted avg       0.74      0.72      0.60      2469\n",
      "\n",
      "------------------------------\n",
      "\n",
      "###### Decision Tree #######\n",
      "accuracy: 0.863102470635885\n",
      "report:\n",
      "              precision    recall  f1-score   support\n",
      "\n",
      "           0       0.91      0.89      0.90      1761\n",
      "           1       0.75      0.79      0.77       708\n",
      "\n",
      "    accuracy                           0.86      2469\n",
      "   macro avg       0.83      0.84      0.84      2469\n",
      "weighted avg       0.87      0.86      0.86      2469\n",
      "\n",
      "------------------------------\n",
      "\n",
      "###### Random Forest #######\n",
      "accuracy: 0.9206156338598623\n",
      "report:\n",
      "              precision    recall  f1-score   support\n",
      "\n",
      "           0       0.92      0.97      0.95      1761\n",
      "           1       0.91      0.80      0.85       708\n",
      "\n",
      "    accuracy                           0.92      2469\n",
      "   macro avg       0.92      0.88      0.90      2469\n",
      "weighted avg       0.92      0.92      0.92      2469\n",
      "\n",
      "------------------------------\n",
      "\n",
      "###### Neural Net #######\n",
      "accuracy: 0.7480761441879303\n",
      "report:\n",
      "              precision    recall  f1-score   support\n",
      "\n",
      "           0       0.98      0.66      0.79      1761\n",
      "           1       0.53      0.97      0.69       708\n",
      "\n",
      "    accuracy                           0.75      2469\n",
      "   macro avg       0.76      0.81      0.74      2469\n",
      "weighted avg       0.85      0.75      0.76      2469\n",
      "\n",
      "------------------------------\n",
      "\n",
      "###### AdaBoost #######\n",
      "accuracy: 0.9007695423248279\n",
      "report:\n",
      "              precision    recall  f1-score   support\n",
      "\n",
      "           0       0.93      0.93      0.93      1761\n",
      "           1       0.83      0.82      0.83       708\n",
      "\n",
      "    accuracy                           0.90      2469\n",
      "   macro avg       0.88      0.88      0.88      2469\n",
      "weighted avg       0.90      0.90      0.90      2469\n",
      "\n",
      "------------------------------\n",
      "\n"
     ]
    }
   ],
   "source": [
    "# Compare different classifiers\n",
    "\n",
    "for name, clf in zip(names, classifiers):\n",
    "    model = clf\n",
    "    model.fit(X_train, y_train)\n",
    "    y_pred = model.predict(X_test)\n",
    "    accuracy = accuracy_score(y_test,y_pred)\n",
    "    report = classification_report(y_test, y_pred)\n",
    "    print(\"###### \" + name + \" #######\")\n",
    "    print(\"accuracy: {}\".format(accuracy))\n",
    "    print(\"report:\")\n",
    "    print(report)\n",
    "    print(\"------------------------------\\n\")\n"
   ]
  },
  {
   "cell_type": "code",
   "execution_count": 24,
   "metadata": {},
   "outputs": [
    {
     "name": "stdout",
     "output_type": "stream",
     "text": [
      "[0.90126582 0.90683544 0.91696203 0.89665653 0.90932118]\n"
     ]
    }
   ],
   "source": [
    "# Cross-Validation\n",
    "model = RandomForestClassifier()\n",
    "scores = cross_val_score(model, X_proteins, target_classes, cv=5)\n",
    "print(scores)"
   ]
  },
  {
   "cell_type": "code",
   "execution_count": 50,
   "metadata": {},
   "outputs": [],
   "source": [
    "# https://scikit-learn.org/stable/modules/generated/sklearn.ensemble.RandomForestClassifier.html \n",
    "\n",
    "param_grid = {\"n_estimators\": [10, 50, 100],\n",
    "              \"criterion\": [\"gini\", \"entropy\"],\n",
    "             }\n",
    "grid_search = GridSearchCV(RandomForestClassifier(random_state=42), param_grid, cv=3)"
   ]
  },
  {
   "cell_type": "code",
   "execution_count": 51,
   "metadata": {},
   "outputs": [
    {
     "data": {
      "text/plain": [
       "GridSearchCV(cv=3, estimator=RandomForestClassifier(random_state=42),\n",
       "             param_grid={'criterion': ['gini', 'entropy'],\n",
       "                         'n_estimators': [10, 50, 100]})"
      ]
     },
     "execution_count": 51,
     "metadata": {},
     "output_type": "execute_result"
    }
   ],
   "source": [
    "grid_search.fit(X_train, y_train)"
   ]
  },
  {
   "cell_type": "code",
   "execution_count": 52,
   "metadata": {},
   "outputs": [
    {
     "data": {
      "text/plain": [
       "0.9210206561360875"
      ]
     },
     "execution_count": 52,
     "metadata": {},
     "output_type": "execute_result"
    }
   ],
   "source": [
    "grid_search.score(X_test, y_test)"
   ]
  },
  {
   "cell_type": "code",
   "execution_count": 53,
   "metadata": {},
   "outputs": [
    {
     "data": {
      "text/plain": [
       "0.9042409508373851"
      ]
     },
     "execution_count": 53,
     "metadata": {},
     "output_type": "execute_result"
    }
   ],
   "source": [
    "grid_search.best_score_"
   ]
  },
  {
   "cell_type": "code",
   "execution_count": 55,
   "metadata": {},
   "outputs": [
    {
     "data": {
      "text/plain": [
       "{'criterion': 'gini', 'n_estimators': 100}"
      ]
     },
     "execution_count": 55,
     "metadata": {},
     "output_type": "execute_result"
    }
   ],
   "source": [
    "grid_search.best_params_"
   ]
  },
  {
   "cell_type": "code",
   "execution_count": 6,
   "metadata": {},
   "outputs": [],
   "source": []
  },
  {
   "cell_type": "code",
   "execution_count": null,
   "metadata": {},
   "outputs": [],
   "source": []
  }
 ],
 "metadata": {
  "kernelspec": {
   "display_name": "Python 3",
   "language": "python",
   "name": "python3"
  },
  "language_info": {
   "codemirror_mode": {
    "name": "ipython",
    "version": 3
   },
   "file_extension": ".py",
   "mimetype": "text/x-python",
   "name": "python",
   "nbconvert_exporter": "python",
   "pygments_lexer": "ipython3",
   "version": "3.8.8"
  }
 },
 "nbformat": 4,
 "nbformat_minor": 2
}
