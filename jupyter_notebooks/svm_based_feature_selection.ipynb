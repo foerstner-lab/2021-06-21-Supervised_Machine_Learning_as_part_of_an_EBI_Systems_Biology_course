{
 "cells": [
  {
   "cell_type": "code",
   "execution_count": 2,
   "metadata": {},
   "outputs": [],
   "source": [
    "import numpy as np\n",
    "import pandas as pd\n",
    "import requests, zipfile, io, os\n",
    "from sklearn.preprocessing import OneHotEncoder, StandardScaler, LabelEncoder\n",
    "from sklearn.feature_selection import SelectKBest, f_classif\n",
    "from sklearn.model_selection import train_test_split\n",
    "from sklearn.dummy import DummyClassifier\n",
    "from sklearn.svm import SVC\n",
    "import seaborn as sns\n"
   ]
  },
  {
   "cell_type": "markdown",
   "metadata": {},
   "source": [
    "data doi:\n",
    "    https://www.nature.com/articles/nmeth.2810#Sec15\n",
    "further reading:\n",
    "    https://machinelearningmastery.com/feature-selection-with-real-and-categorical-data/"
   ]
  },
  {
   "cell_type": "code",
   "execution_count": 96,
   "metadata": {},
   "outputs": [],
   "source": [
    "# download Dataset with Bash\n",
    "\n",
    "#!bash download_datasets.sh"
   ]
  },
  {
   "cell_type": "code",
   "execution_count": 36,
   "metadata": {},
   "outputs": [
    {
     "name": "stdout",
     "output_type": "stream",
     "text": [
      "done\n",
      "done\n"
     ]
    }
   ],
   "source": [
    "# download Dataset with python\n",
    "\n",
    "data_directory = \"cancer_datasets_test\"\n",
    "\n",
    "headers = {'Connection': 'keep-alive',\n",
    "           'Host': 'static-content.springer.com',\n",
    "           'Referer': 'https://www.nature.com/',\n",
    "           'Upgrade-Insecure-Requests': '1',\n",
    "           'Accept': 'text/html,application/xhtml+xml,application/xml;q=0.9,image/webp,*/*;q=0.8',\n",
    "           'User-Agent': 'Mozilla/5.0 (X11; Ubuntu; Linux x86_64; rv:88.0) Gecko/20100101 Firefox/88.0',\n",
    "           'Accept-Language': 'en-US,en;q=0.5'}\n",
    "\n",
    "\n",
    "url = 'https://static-content.springer.com/esm/art%3A10.1038%2Fnmeth.2810/MediaObjects/41592_2014_BFnmeth2810_MOESM206_ESM.zip'\n",
    "request = requests.get(url, headers= headers, stream=True)\n",
    "zip_reader = zipfile.ZipFile(io.BytesIO(request.content))\n",
    "zip_reader.extractall(data_directory)\n"
   ]
  },
  {
   "cell_type": "code",
   "execution_count": 3,
   "metadata": {},
   "outputs": [],
   "source": [
    "# create dataframes\n",
    "data_directory = \"cancer_datasets\" \n",
    "cancer_types = [\"Breast\", \"Colon\", \"GBM\", \"Lung\"] \n",
    "file_ending = [\"_Gene_Expression_cleaned.csv\", \"_Methy_Expression_cleaned.csv\", \n",
    "                \"_Mirna_Expression_cleaned.csv\", \"_Survival_cleaned.csv\"] \n",
    "breast_dir_path = os.path.join(data_directory, cancer_types[0]) \n",
    "colon_dir_path = os.path.join(data_directory, cancer_types[1]) \n",
    "gbm_dir_path = os.path.join(data_directory, cancer_types[2]) \n",
    "lung_dir_path = os.path.join(data_directory, cancer_types[3]) \n",
    "\n",
    "breast_gene_exp_df = pd.read_csv(os.path.join(breast_dir_path, cancer_types[0].upper() + file_ending[0]),  \n",
    "                                 sep=\"\\t\", index_col=\"Gene\") \n",
    "colon_gene_exp_df = pd.read_csv(os.path.join(colon_dir_path, cancer_types[1].upper() + file_ending[0]), \n",
    "                                sep=\"\\t\", index_col=\"Gene\") \n",
    "gbm_gene_exp_df = pd.read_csv(os.path.join(gbm_dir_path, \"GLIO\" + file_ending[0]), \n",
    "                              sep=\"\\t\", index_col=\"Gene\") \n",
    "lung_gene_exp_df = pd.read_csv(os.path.join(lung_dir_path, cancer_types[3].upper() + file_ending[0]), \n",
    "                               sep=\"\\t\", index_col=\"Gene\") \n"
   ]
  },
  {
   "cell_type": "code",
   "execution_count": 4,
   "metadata": {},
   "outputs": [],
   "source": [
    "# one hot encode target \n",
    "\n",
    "category_array = np.asarray([[cancer_type] for cancer_type in cancer_types]) \n",
    "ohe = OneHotEncoder(sparse=False)  \n",
    "encoded_category = ohe.fit_transform(category_array) \n",
    "category_oh_encoded = dict(zip(cancer_types, \n",
    "                            encoded_category)) \n",
    "\n",
    "# label encode target\n",
    "le = LabelEncoder()\n",
    "le_encoded_category = le.fit_transform(cancer_types)\n",
    "category_le_encoded = dict(zip(cancer_types, \n",
    "                           le_encoded_category)) \n"
   ]
  },
  {
   "cell_type": "code",
   "execution_count": 5,
   "metadata": {},
   "outputs": [],
   "source": [
    "# create list of common genes\n",
    "\n",
    "breast_genes = list(breast_gene_exp_df.index)\n",
    "colon_genes = list(colon_gene_exp_df.index)\n",
    "gbm_genes = list(gbm_gene_exp_df.index)\n",
    "lung_genes = list(lung_gene_exp_df.index)\n",
    "\n",
    "all_genes = [breast_genes, colon_genes, gbm_genes, lung_genes]\n",
    "\n",
    "overlap_genes = set.intersection(*map(set,all_genes))"
   ]
  },
  {
   "cell_type": "code",
   "execution_count": 6,
   "metadata": {},
   "outputs": [],
   "source": [
    "# create input array and target array\n",
    "\n",
    "input_array = np.array([])\n",
    "input_array_first = \"\"\n",
    "wanted_genes = list(overlap_genes)\n",
    "  \n",
    "for df, cancer_type in zip([breast_gene_exp_df, colon_gene_exp_df, \n",
    "                            gbm_gene_exp_df,lung_gene_exp_df],\n",
    "                            cancer_types): \n",
    "   \n",
    "   \n",
    "    if input_array.size == 0:\n",
    "        input_array = df.reindex(wanted_genes).transpose().values\n",
    "        target_array = np.tile(category_le_encoded[cancer_type],\n",
    "                                     (df.shape[1],1))\n",
    "   \n",
    "    else:\n",
    "        current_input_array = df.reindex(wanted_genes).transpose().values\n",
    "        input_array = np.vstack((input_array, current_input_array))\n",
    "        current_target_array = np.tile(category_le_encoded[cancer_type],\n",
    "                                     (df.shape[1],1))\n",
    "        target_array = np.vstack((target_array, current_target_array))\n",
    "\n",
    "\n",
    "    \n"
   ]
  },
  {
   "cell_type": "code",
   "execution_count": 7,
   "metadata": {},
   "outputs": [
    {
     "data": {
      "text/plain": [
       "(518, 11925)"
      ]
     },
     "execution_count": 7,
     "metadata": {},
     "output_type": "execute_result"
    }
   ],
   "source": [
    "# normalize with standard scaler\n",
    "\n",
    "scaler = StandardScaler()\n",
    "scaler.fit(input_array)\n",
    "scaled_input = scaler.transform(input_array)\n",
    "scaled_input.shape"
   ]
  },
  {
   "cell_type": "code",
   "execution_count": 8,
   "metadata": {},
   "outputs": [
    {
     "data": {
      "text/plain": [
       "<matplotlib.axes._subplots.AxesSubplot at 0x7f9dc5f2e7b8>"
      ]
     },
     "execution_count": 8,
     "metadata": {},
     "output_type": "execute_result"
    },
    {
     "data": {
      "image/png": "[encoded data removed]",
      "text/plain": [
       "<Figure size 432x288 with 1 Axes>"
      ]
     },
     "metadata": {
      "needs_background": "light"
     },
     "output_type": "display_data"
    }
   ],
   "source": [
    "# feature selection with svc\n",
    "\n",
    "model =  SVC(gamma='auto')\n",
    "data_dict = {}\n",
    "\n",
    "for K in range(1000, len(overlap_genes), 1000):\n",
    "    selector = SelectKBest(score_func=f_classif, k=K)\n",
    "    selected_input = selector.fit_transform(scaled_input, target_array.ravel())\n",
    "    #best_genes_index = selector.get_support(indices=True)\n",
    "    #best_genes =[list(overlap_genes)[i] for i in best_genes_index]\n",
    "    X_train, X_test, y_train, y_test = train_test_split(selected_input,\n",
    "                                                    target_array.ravel(),\n",
    "                                                    test_size=0.2,\n",
    "                                                    random_state=42)\n",
    "    model.fit(X_train, y_train)\n",
    "    mean_accuracy = model.score(X_test, y_test)\n",
    "    data_dict[K] = mean_accuracy\n",
    "    \n",
    "\n",
    "sns.lineplot(list(data_dict.keys()), list(data_dict.values()))\n",
    "    "
   ]
  },
  {
   "cell_type": "code",
   "execution_count": 252,
   "metadata": {},
   "outputs": [
    {
     "data": {
      "text/plain": [
       "0.25961538461538464"
      ]
     },
     "execution_count": 252,
     "metadata": {},
     "output_type": "execute_result"
    }
   ],
   "source": [
    "# benchmark with dummy classifier\n",
    "\n",
    "dummy_clf = DummyClassifier(strategy=\"stratified\")\n",
    "dummy_clf.fit(X_train, y_train)\n",
    "dummy_clf.score(X_test, y_test)"
   ]
  },
  {
   "cell_type": "code",
   "execution_count": null,
   "metadata": {},
   "outputs": [],
   "source": []
  }
 ],
 "metadata": {
  "kernelspec": {
   "display_name": "Python 3",
   "language": "python",
   "name": "python3"
  },
  "language_info": {
   "codemirror_mode": {
    "name": "ipython",
    "version": 3
   },
   "file_extension": ".py",
   "mimetype": "text/x-python",
   "name": "python",
   "nbconvert_exporter": "python",
   "pygments_lexer": "ipython3",
   "version": "3.7.3"
  }
 },
 "nbformat": 4,
 "nbformat_minor": 2
}
