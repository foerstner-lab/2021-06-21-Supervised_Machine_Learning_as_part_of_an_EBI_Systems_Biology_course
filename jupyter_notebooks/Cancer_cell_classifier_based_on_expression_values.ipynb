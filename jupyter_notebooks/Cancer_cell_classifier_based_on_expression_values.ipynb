{
 "cells": [
  {
   "cell_type": "code",
   "execution_count": 34,
   "metadata": {},
   "outputs": [],
   "source": [
    "import numpy as np\n",
    "import pandas as pd\n",
    "from sklearn.preprocessing import OneHotEncoder, StandardScaler, LabelEncoder\n",
    "from sklearn.feature_selection import SelectKBest, f_classif\n",
    "from sklearn.model_selection import train_test_split\n",
    "from sklearn.dummy import DummyClassifier\n",
    "import seaborn as sns\n",
    "\n",
    "# classifiers\n",
    "from sklearn.neural_network import MLPClassifier\n",
    "from sklearn.neighbors import KNeighborsClassifier\n",
    "from sklearn.svm import SVC\n",
    "from sklearn.gaussian_process import GaussianProcessClassifier\n",
    "from sklearn.gaussian_process.kernels import RBF\n",
    "from sklearn.tree import DecisionTreeClassifier\n",
    "from sklearn.ensemble import RandomForestClassifier, AdaBoostClassifier\n",
    "from sklearn.naive_bayes import GaussianNB\n",
    "from sklearn.discriminant_analysis import QuadraticDiscriminantAnalysis\n",
    "\n",
    "# evaluation\n",
    "from sklearn.metrics import classification_report, confusion_matrix, accuracy_score"
   ]
  },
  {
   "cell_type": "code",
   "execution_count": 4,
   "metadata": {},
   "outputs": [],
   "source": [
    "# Load in file\n",
    "\n",
    "expr_data = pd.read_csv(\"cancer_cells_expression.csv\")\n",
    "\n",
    "cancer_types = list(expr_data[\"cancer_target\"].unique())"
   ]
  },
  {
   "cell_type": "code",
   "execution_count": 16,
   "metadata": {},
   "outputs": [],
   "source": [
    "# one hot encode target \n",
    "\n",
    "category_array = np.asarray([[cancer_type] for cancer_type in cancer_types]) \n",
    "ohe = OneHotEncoder(sparse=False)  \n",
    "encoded_category = ohe.fit_transform(category_array) \n",
    "category_oh_encoded = dict(zip(cancer_types, \n",
    "                            encoded_category)) \n",
    "\n",
    "# label encode target\n",
    "le = LabelEncoder()\n",
    "le_encoded_category = le.fit_transform(cancer_types)\n",
    "category_le_encoded = dict(zip(cancer_types, \n",
    "                           le_encoded_category)) \n"
   ]
  },
  {
   "cell_type": "code",
   "execution_count": 11,
   "metadata": {},
   "outputs": [],
   "source": [
    "# create input array and target array\n",
    "\n",
    "target_array = expr_data[\"cancer_target\"].values\n",
    "target_array = np.array([category_le_encoded[cancer_type] for cancer_type in list(target_array)])\n",
    "\n",
    "input_array = expr_data.drop([\"cancer_target\"], axis=1).values"
   ]
  },
  {
   "cell_type": "code",
   "execution_count": 24,
   "metadata": {},
   "outputs": [
    {
     "data": {
      "text/plain": [
       "(518, 11926)"
      ]
     },
     "execution_count": 24,
     "metadata": {},
     "output_type": "execute_result"
    }
   ],
   "source": [
    "# normalize with standard scaler\n",
    "\n",
    "scaler = StandardScaler()\n",
    "scaler.fit(input_array)\n",
    "scaled_input = scaler.transform(input_array)\n",
    "scaled_input.shape"
   ]
  },
  {
   "cell_type": "code",
   "execution_count": 27,
   "metadata": {},
   "outputs": [],
   "source": [
    "# test_train split\n",
    "\n",
    "X_train, X_test, y_train, y_test = train_test_split(scaled_input,\n",
    "                                                    target_array.ravel(),\n",
    "                                                    test_size=0.2,\n",
    "                                                    random_state=42)"
   ]
  },
  {
   "cell_type": "code",
   "execution_count": 29,
   "metadata": {},
   "outputs": [
    {
     "data": {
      "text/plain": [
       "0.2403846153846154"
      ]
     },
     "execution_count": 29,
     "metadata": {},
     "output_type": "execute_result"
    }
   ],
   "source": [
    "# Benchmark with dummy\n",
    "\n",
    "dummy_clf = DummyClassifier(strategy=\"stratified\")\n",
    "dummy_clf.fit(X_train, y_train)\n",
    "dummy_clf.score(X_test, y_test)"
   ]
  },
  {
   "cell_type": "code",
   "execution_count": 31,
   "metadata": {},
   "outputs": [],
   "source": [
    "# classifiers\n",
    "\n",
    "names = [\"Nearest Neighbors\", \"Linear SVM\", \"RBF SVM\", \"Gaussian Process\",\n",
    "         \"Decision Tree\", \"Random Forest\", \"Neural Net\", \"AdaBoost\",\n",
    "         \"Naive Bayes\", \"QDA\"]\n",
    "\n",
    "classifiers = [\n",
    "    KNeighborsClassifier(),\n",
    "    SVC(kernel=\"linear\", C=0.025),\n",
    "    SVC(gamma=\"scale\", C=1),\n",
    "    GaussianProcessClassifier(1.0 * RBF(1.0)),\n",
    "    DecisionTreeClassifier(max_depth=5),\n",
    "    RandomForestClassifier(max_depth=5, n_estimators=10, max_features=1),\n",
    "    MLPClassifier(alpha=1, max_iter=40),\n",
    "    AdaBoostClassifier(),\n",
    "    GaussianNB(),\n",
    "    QuadraticDiscriminantAnalysis()]"
   ]
  },
  {
   "cell_type": "code",
   "execution_count": 35,
   "metadata": {},
   "outputs": [
    {
     "name": "stdout",
     "output_type": "stream",
     "text": [
      "Nearest Neighbors\n",
      "accuracy: 0.40384615384615385\n",
      "report:\n",
      "              precision    recall  f1-score   support\n",
      "\n",
      "           0       1.00      0.17      0.29        29\n",
      "           1       1.00      0.19      0.32        16\n",
      "           2       0.36      1.00      0.53        34\n",
      "           3       0.00      0.00      0.00        25\n",
      "\n",
      "    accuracy                           0.40       104\n",
      "   macro avg       0.59      0.34      0.28       104\n",
      "weighted avg       0.55      0.40      0.30       104\n",
      "\n",
      "Linear SVM\n",
      "accuracy: 0.038461538461538464\n",
      "report:\n",
      "              precision    recall  f1-score   support\n",
      "\n",
      "           0       0.00      0.00      0.00        29\n",
      "           1       0.00      0.00      0.00        16\n",
      "           2       0.09      0.12      0.10        34\n",
      "           3       0.00      0.00      0.00        25\n",
      "\n",
      "    accuracy                           0.04       104\n",
      "   macro avg       0.02      0.03      0.03       104\n",
      "weighted avg       0.03      0.04      0.03       104\n",
      "\n"
     ]
    },
    {
     "name": "stderr",
     "output_type": "stream",
     "text": [
      "/home/mandela/anaconda3/lib/python3.7/site-packages/sklearn/metrics/classification.py:1437: UndefinedMetricWarning: Precision and F-score are ill-defined and being set to 0.0 in labels with no predicted samples.\n",
      "  'precision', 'predicted', average, warn_for)\n"
     ]
    },
    {
     "name": "stdout",
     "output_type": "stream",
     "text": [
      "RBF SVM\n",
      "accuracy: 0.3269230769230769\n",
      "report:\n",
      "              precision    recall  f1-score   support\n",
      "\n",
      "           0       0.00      0.00      0.00        29\n",
      "           1       0.00      0.00      0.00        16\n",
      "           2       0.33      1.00      0.49        34\n",
      "           3       0.00      0.00      0.00        25\n",
      "\n",
      "    accuracy                           0.33       104\n",
      "   macro avg       0.08      0.25      0.12       104\n",
      "weighted avg       0.11      0.33      0.16       104\n",
      "\n"
     ]
    },
    {
     "name": "stderr",
     "output_type": "stream",
     "text": [
      "/home/mandela/anaconda3/lib/python3.7/site-packages/sklearn/metrics/classification.py:1437: UndefinedMetricWarning: Precision and F-score are ill-defined and being set to 0.0 in labels with no predicted samples.\n",
      "  'precision', 'predicted', average, warn_for)\n"
     ]
    },
    {
     "name": "stdout",
     "output_type": "stream",
     "text": [
      "Gaussian Process\n",
      "accuracy: 0.3269230769230769\n",
      "report:\n",
      "              precision    recall  f1-score   support\n",
      "\n",
      "           0       0.00      0.00      0.00        29\n",
      "           1       0.00      0.00      0.00        16\n",
      "           2       0.33      1.00      0.50        34\n",
      "           3       0.00      0.00      0.00        25\n",
      "\n",
      "    accuracy                           0.33       104\n",
      "   macro avg       0.08      0.25      0.12       104\n",
      "weighted avg       0.11      0.33      0.16       104\n",
      "\n",
      "Decision Tree\n",
      "accuracy: 0.6634615384615384\n",
      "report:\n",
      "              precision    recall  f1-score   support\n",
      "\n",
      "           0       1.00      0.24      0.39        29\n",
      "           1       0.42      0.69      0.52        16\n",
      "           2       0.71      0.88      0.79        34\n",
      "           3       0.72      0.84      0.78        25\n",
      "\n",
      "    accuracy                           0.66       104\n",
      "   macro avg       0.72      0.66      0.62       104\n",
      "weighted avg       0.75      0.66      0.63       104\n",
      "\n",
      "Random Forest\n",
      "accuracy: 0.3269230769230769\n",
      "report:\n",
      "              precision    recall  f1-score   support\n",
      "\n",
      "           0       0.00      0.00      0.00        29\n",
      "           1       0.20      0.06      0.10        16\n",
      "           2       0.35      0.97      0.52        34\n",
      "           3       0.00      0.00      0.00        25\n",
      "\n",
      "    accuracy                           0.33       104\n",
      "   macro avg       0.14      0.26      0.15       104\n",
      "weighted avg       0.15      0.33      0.18       104\n",
      "\n",
      "Neural Net\n",
      "accuracy: 0.7692307692307693\n",
      "report:\n",
      "              precision    recall  f1-score   support\n",
      "\n",
      "           0       0.95      0.69      0.80        29\n",
      "           1       0.58      0.69      0.63        16\n",
      "           2       0.77      1.00      0.87        34\n",
      "           3       0.75      0.60      0.67        25\n",
      "\n",
      "    accuracy                           0.77       104\n",
      "   macro avg       0.76      0.74      0.74       104\n",
      "weighted avg       0.79      0.77      0.77       104\n",
      "\n",
      "AdaBoost\n",
      "accuracy: 0.5576923076923077\n",
      "report:\n",
      "              precision    recall  f1-score   support\n",
      "\n",
      "           0       0.73      0.38      0.50        29\n",
      "           1       0.38      0.31      0.34        16\n",
      "           2       0.63      0.79      0.70        34\n",
      "           3       0.45      0.60      0.52        25\n",
      "\n",
      "    accuracy                           0.56       104\n",
      "   macro avg       0.55      0.52      0.52       104\n",
      "weighted avg       0.58      0.56      0.55       104\n",
      "\n",
      "Naive Bayes\n",
      "accuracy: 0.057692307692307696\n",
      "report:\n",
      "              precision    recall  f1-score   support\n",
      "\n",
      "           0       0.08      0.10      0.09        29\n",
      "           1       0.00      0.00      0.00        16\n",
      "           2       0.08      0.09      0.08        34\n",
      "           3       0.00      0.00      0.00        25\n",
      "\n",
      "    accuracy                           0.06       104\n",
      "   macro avg       0.04      0.05      0.04       104\n",
      "weighted avg       0.05      0.06      0.05       104\n",
      "\n"
     ]
    },
    {
     "name": "stderr",
     "output_type": "stream",
     "text": [
      "/home/mandela/anaconda3/lib/python3.7/site-packages/sklearn/discriminant_analysis.py:693: UserWarning: Variables are collinear\n",
      "  warnings.warn(\"Variables are collinear\")\n"
     ]
    },
    {
     "name": "stdout",
     "output_type": "stream",
     "text": [
      "QDA\n",
      "accuracy: 0.3173076923076923\n",
      "report:\n",
      "              precision    recall  f1-score   support\n",
      "\n",
      "           0       0.40      0.28      0.33        29\n",
      "           1       0.12      0.19      0.15        16\n",
      "           2       0.45      0.50      0.47        34\n",
      "           3       0.24      0.20      0.22        25\n",
      "\n",
      "    accuracy                           0.32       104\n",
      "   macro avg       0.30      0.29      0.29       104\n",
      "weighted avg       0.33      0.32      0.32       104\n",
      "\n"
     ]
    }
   ],
   "source": [
    "# compare different classifiers\n",
    "\n",
    "for name, clf in zip(names, classifiers):\n",
    "    model = clf\n",
    "    model.fit(X_train, y_train)\n",
    "    y_pred = model.predict(X_test)\n",
    "    accuracy = accuracy_score(y_test,y_pred)\n",
    "    report = classification_report(y_test, y_pred)\n",
    "    print(name)\n",
    "    print(\"accuracy: {}\".format(accuracy))\n",
    "    print(\"report:\")\n",
    "    print(report)\n"
   ]
  },
  {
   "cell_type": "code",
   "execution_count": null,
   "metadata": {},
   "outputs": [],
   "source": []
  }
 ],
 "metadata": {
  "kernelspec": {
   "display_name": "Python 3",
   "language": "python",
   "name": "python3"
  },
  "language_info": {
   "codemirror_mode": {
    "name": "ipython",
    "version": 3
   },
   "file_extension": ".py",
   "mimetype": "text/x-python",
   "name": "python",
   "nbconvert_exporter": "python",
   "pygments_lexer": "ipython3",
   "version": "3.7.3"
  }
 },
 "nbformat": 4,
 "nbformat_minor": 2
}
